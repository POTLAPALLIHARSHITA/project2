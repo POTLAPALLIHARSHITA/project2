{
  "nbformat": 4,
  "nbformat_minor": 0,
  "metadata": {
    "colab": {
      "provenance": [],
      "authorship_tag": "ABX9TyM1BNnOovofGvMlMaynrvC3",
      "include_colab_link": true
    },
    "kernelspec": {
      "name": "python3",
      "display_name": "Python 3"
    },
    "language_info": {
      "name": "python"
    }
  },
  "cells": [
    {
      "cell_type": "markdown",
      "metadata": {
        "id": "view-in-github",
        "colab_type": "text"
      },
      "source": [
        "<a href=\"https://colab.research.google.com/github/POTLAPALLIHARSHITA/project2/blob/main/Untitled9.ipynb\" target=\"_parent\"><img src=\"https://colab.research.google.com/assets/colab-badge.svg\" alt=\"Open In Colab\"/></a>"
      ]
    },
    {
      "cell_type": "code",
      "execution_count": 4,
      "metadata": {
        "colab": {
          "base_uri": "https://localhost:8080/"
        },
        "id": "5t3YKMzLJ5kD",
        "outputId": "56e8339c-f2ab-4a42-b75a-c91f09ac6b8f"
      },
      "outputs": [
        {
          "output_type": "stream",
          "name": "stdout",
          "text": [
            "Data scraping and saving completed.\n"
          ]
        }
      ],
      "source": [
        "import pandas as pd\n",
        "import requests\n",
        "import json\n",
        "from datetime import datetime, timedelta\n",
        "\n",
        "def get_vegetable_data(date):\n",
        "    url = f\"https://vegetablemarketprice.com/api/dataapi/market/uttarakhand/daywisedata?date={date}\"\n",
        "    headers = {\n",
        "        \"User-Agent\": \"Mozilla/5.0 (Windows NT 10.0; Win64; x64) AppleWebKit/537.36 (KHTML, like Gecko) Chrome/127.0.0.0 Safari/537.36\"\n",
        "    }\n",
        "\n",
        "    response = requests.get(url, headers=headers)\n",
        "    if response.status_code == 200:\n",
        "        return json.loads(response.text)[\"data\"]\n",
        "    else:\n",
        "        print(f\"Failed to retrieve data for {date}\")\n",
        "        return []\n",
        "\n",
        "# Initialize a list to store the data\n",
        "data_list = []\n",
        "\n",
        "# Define the date range\n",
        "start_date = datetime(2024, 5, 1)\n",
        "end_date = datetime(2024, 6, 30)\n",
        "\n",
        "# Loop through each date in the specified range\n",
        "current_date = start_date\n",
        "while current_date <= end_date:\n",
        "    date_str = current_date.strftime(\"%Y-%m-%d\")\n",
        "    daily_data = get_vegetable_data(date_str)\n",
        "\n",
        "    # Process each entry in the daily data\n",
        "    for entry in daily_data:\n",
        "        data_list.append({\n",
        "            \"Date\": date_str,\n",
        "            \"State\": \"Uttarakhand\",\n",
        "            \"Vegetable Name\": entry.get(\"vegetablename\", \"N/A\"),\n",
        "            \"Wholesale Price\": entry.get(\"price\", \"N/A\"),\n",
        "            \"Retail Price\": entry.get(\"retailprice\", \"N/A\"),\n",
        "            \"Mall Price\": entry.get(\"shopingmallprice\", \"N/A\"),\n",
        "            \"Unit\": entry.get(\"units\", \"N/A\"),\n",
        "            \"Vegetable Image\": entry.get(\"vegetableimage\", \"N/A\")\n",
        "        })\n",
        "\n",
        "    current_date += timedelta(days=1)\n",
        "\n",
        "# Convert the data into a pandas DataFrame\n",
        "df = pd.DataFrame(data_list)\n",
        "\n",
        "# Save the DataFrame to a CSV file\n",
        "df.to_csv(\"/content/VegMarketDataUttarakhand_May_June_2024.csv\", index=False)\n",
        "df.head()\n",
        "print(\"Data scraping and saving completed.\")"
      ]
    }
  ]
}